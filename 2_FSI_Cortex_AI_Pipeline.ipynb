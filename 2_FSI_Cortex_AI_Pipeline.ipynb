{
 "metadata": {
  "kernelspec": {
   "display_name": "base",
   "language": "python",
   "name": "python3"
  },
  "language_info": {
   "name": "python",
   "version": "3.12.4"
  },
  "lastEditStatus": {
   "notebookId": "ugy5mnkwpfibepiraoke",
   "authorId": "5744486210470",
   "authorName": "CCARRERO",
   "authorEmail": "carlos.carrero@snowflake.com",
   "sessionId": "7186798e-035f-4843-ae00-0e87065b8166",
   "lastEditTime": 1746708229010
  }
 },
 "nbformat_minor": 5,
 "nbformat": 4,
 "cells": [
  {
   "cell_type": "markdown",
   "id": "18239d9e-e562-47a0-9b99-d83d089db6f2",
   "metadata": {
    "collapsed": false,
    "name": "setup_md"
   },
   "source": "# **SNOWFLAKE CORTEX COMPLETE FINANCIAL SERVICES DEMO**\n\n## Authors: John Heisler, Garrett Frere\n\nIn this demo, using Snowflake Cortex (https://www.snowflake.com/en/data-cloud/cortex/), we will build an AI-infused Data Pipeline with Cortex Complete.\n\nNOTE: This notebook has been modified from the Original by Carlos Carrero in order to repeat the demo process just running the whole notebook. Also added here the native capabilities to process PDF files instead of PyPDF2.\n\n### AI Pipeline Overview\n\nWe'll learn how to extract raw text from a PDF, perform prompt engineering, and pass custom prompts and data to a large language model of our choosing all without leaving Snowflake.\n\nSpecifically, we will be taking on the role of an AI Engineer who is working closely with a portfolio team at an asset manager. The portfolio team would like to speed up their ingestion and comprehension of statements by the Federal Open Market Committee (FOMC) who determines the direction of monetary policy by directing open market operations. Ultimately they would like to get a signal as to whether interest rates will increase, remain the same, or increase (hawkish, or, dovish respectively).\n\nI refer to this as an AI pipeline because we can imbue this type of signal generation with AI much further up the data delivery value chain. In this way, we will maximize the value of our work imbuing into a common dataset. End users will not need invoke any additional logic; good design is invisible!\n\n### Next Steps\n\n * To industrialize this demo with continuous ingestion and scoring, please check out the `FSI_Cortex_AI_Pipeline_Industrialization.ipynb` notebook in this repository\n * Check out the companion demo in this repository: `FSI_Cortex_Search.ipynb`"
  },
  {
   "cell_type": "markdown",
   "id": "25c91208-e122-4198-9fe3-1cf7b30e72df",
   "metadata": {
    "name": "cell1",
    "collapsed": false
   },
   "source": "# 🛑 BEFORE YOU START 🛑\n\n**Be sure to do the following FIRST to create dependent database objects for the following steps**:\n1. Run the `1_SQL_SETUP_FOMC.sql` script\n\n------"
  },
  {
   "cell_type": "markdown",
   "id": "7d5863ec-4a54-42b2-8dea-2c591475f30e",
   "metadata": {
    "name": "STEP_1_MD",
    "collapsed": false
   },
   "source": "### AI Pipeline: Step 1 - Copy PDF Files\n\nWe need to extract text from the PDFs. We will do that with a new python function.\n\n> Note that we're builidng this function directly in SQL.\n\nThe steps below requires the `langchain`, `pypdf2` and `pandas` packages. To import packages from Anaconda, install them first using the package selector at the top of the page."
  },
  {
   "cell_type": "code",
   "execution_count": null,
   "id": "488bed2d-636f-4b66-bda7-09529750d2ac",
   "metadata": {
    "language": "sql",
    "name": "cell3"
   },
   "outputs": [],
   "source": "\nUSE DATABASE GEN_AI_FSI;\nUSE SCHEMA FOMC;"
  },
  {
   "cell_type": "markdown",
   "id": "5ad2b933-73c9-4323-88cd-1aabc470fcbf",
   "metadata": {
    "name": "cell9",
    "collapsed": false
   },
   "source": "Create staging areas to store PDF files and the Stream to detect new files:"
  },
  {
   "cell_type": "code",
   "id": "2427645a-9fee-419b-8e97-ed042d6566b6",
   "metadata": {
    "language": "sql",
    "name": "cell8"
   },
   "outputs": [],
   "source": "--create stage fed_logic;\nCREATE OR REPLACE STAGE gen_ai_fsi.fomc.fed_logic\n    ENCRYPTION = (TYPE = 'SNOWFLAKE_SSE')\n    DIRECTORY = (ENABLE = TRUE);\n\n--create stage fed_pdf;\nCREATE OR REPLACE STAGE gen_ai_fsi.fomc.fed_pdf\n    ENCRYPTION = (TYPE = 'SNOWFLAKE_SSE')\n    DIRECTORY = (ENABLE = TRUE);\n\n-- create a stream on the directory\nCREATE OR REPLACE STREAM gen_ai_fsi.fomc.fomc_stream on DIRECTORY(@gen_ai_fsi.fomc.fed_pdf);",
   "execution_count": null
  },
  {
   "cell_type": "code",
   "id": "d0e91d2f-ec46-48d2-90f3-4e18739b5df7",
   "metadata": {
    "language": "sql",
    "name": "cell10"
   },
   "outputs": [],
   "source": "COPY FILES\n    INTO @gen_ai_fsi.fomc.fed_pdf\n    FROM @gen_ai_fsi.fomc.git_repo/branches/main/FOMC_DOCS/;",
   "execution_count": null
  },
  {
   "cell_type": "code",
   "id": "030123ea-3d7a-42ed-9154-f2915250b111",
   "metadata": {
    "language": "sql",
    "name": "cell11"
   },
   "outputs": [],
   "source": "alter stage gen_ai_fsi.fomc.fed_pdf refresh;",
   "execution_count": null
  },
  {
   "cell_type": "markdown",
   "id": "97dc26a7-e011-4ad5-aad0-a963b146cb96",
   "metadata": {
    "collapsed": false,
    "name": "STEP_2_MD"
   },
   "source": [
    "### AI Pipeline: Step 2 - Create and Register `generate_prompt` Function\n",
    "\n",
    "As we load data into our system, we want to automatically generate a signal. To do so, we need to call an LLM and pass it our prompt. \n",
    "\n",
    "Below, we define our specialized prompt engineering as a python function and then we register the function for later reuse when loading data."
   ]
  },
  {
   "cell_type": "code",
   "execution_count": null,
   "id": "c32b66ad-ef51-495f-81ed-4de04af18fad",
   "metadata": {
    "codeCollapsed": false,
    "collapsed": false,
    "language": "python",
    "name": "STEP_2_PYTHON"
   },
   "outputs": [],
   "source": [
    "from snowflake.snowpark.context import get_active_session\n",
    "from snowflake.snowpark.types import *\n",
    "\n",
    "session = get_active_session() \n",
    "\n",
    "def generate_prompt(document_text):\n",
    "    prompt = f\"\"\"\n",
    "        <Role> You are an experienced Senior Economist deeply knowledgeable on Federal Reserve guidance including FOMC or Federal Open Market Committee meeting minutes and communications.\n",
    "        You are an expert in interpreting Hawkish and Dovish signals from the Fed or Federal Reserve. Such signals are derived from guidance conveyed in FOMC meeting notes and communications.\n",
    "        \n",
    "        As an analyst, you excel at discerning macroeconomic trends for each FOMC meeting notes and communications published by the Federal Reserve.\n",
    "        The  signal or trends are either Hawkish or Dovish based on the growth outlook and inflation outlook of the Fed. The Federal Reserve has a long \n",
    "        term objective of keeping inflation around 2%, and low unemployment. Hawkish sentiment could imply \n",
    "        the Federal Reserve intends to raise interest rates to increase the cost of borrowing and slow economic activity. \n",
    "        The Fed typically increases interest rates when inflation is high or rising, or when the unemployment \n",
    "        rate is low or falling. Conversely, dovish sentiment could imply the Federal Reserve intends to lower interest \n",
    "        rates to allow easier access borrowing and lowering the cost of money to stimulate economic activity.  The Fed \n",
    "        typically decreases interest rates when inflation is low or falling, or when the unemployment rate is high or rising.\n",
    "        \n",
    "        Signal categories known as Economic Policy Stances:\n",
    "        Hawkish stance or attitude for economic policy\n",
    "        -characterized by a focus on combating inflation and often involves advocating for higher interest rates and tolerant to higher levels of unemployment.\n",
    "        -concerned about rising inflation. Hawkish stance believes higher interest rates can help keep inflation in check, even if it slows down economic growth or increases unemployment.\n",
    "        \n",
    "        Dovish stance or attitude for economic policy\n",
    "        -characterized by a focus on prioritizing stimulating economic growth, reducing unemployment, and tolerant to higher levels of inflation.\n",
    "        -concerned with boosting economic activity, reducing unemployment and, for this reason, lower interest rates are preferred to create economic growth and employment.\n",
    "        \n",
    "        Neutral stance or attitude for economic policy\n",
    "        -characterized by a focus on balance between combating inflation and supporting economic growth, with no strong inclination toward either side.\n",
    "        -concerned with maintaining a steady economic environment without significant deviations. They seek to neither overly stimulate the economy nor excessively tighten it.\n",
    "        </Role>\n",
    "        \n",
    "        <Data> \n",
    "        You are provided the text of a Federal Reserve Guidance or FOMC meeting notes as context. These generally are released before the Federal Reserve takes action on economic policy. \n",
    "        </Data>\n",
    "\n",
    "        <FOMC_meeting_notes>\n",
    "        {document_text}\n",
    "        </FOMC_meeting_notes>\n",
    "        \n",
    "        <Task>: Follow these instructions,\n",
    "        1) Review the provided FOMC communication or meeting notes text. Then,\n",
    "        2) Consider the FOMC members or Committee Members tone and sentiment around economic conditions. Then,\n",
    "        3) Consider specific guidance and stated conditions that validate the tone and signal FOMC members make concerning current macro economic conditions. Then,\n",
    "        4) Based on this sentiment classify if the FOMC communication text indicates Hawkish, Dovish, or Neutral outlook for the economy. Be critical and do not categorize sentiment as \"Neutral\" unless necessary. This will be output as [Signal].\n",
    "        5) Summarize a concise and accurate rationale for classifying the sentiment Hawkish, Neutral, or Dovish sentiment. This will be output as [Signal_Summary].\n",
    "        </Task>\n",
    "        \n",
    "        <Output> \n",
    "        produce valid JSON. Absolutely do not include any additional text before or following the JSON. Output should use following JSON_format\n",
    "        </Output>\n",
    "        \n",
    "        <JSON_format>\n",
    "        {{\n",
    "            \"Signal\": (A trend sentiment classification of Hawkish, Neutral or Dovish),\n",
    "            \"Signal_Summary\": (A concise summary of sentiment trend),\n",
    "        }}\n",
    "        </JSON_format>\"\"\"\n",
    "    return prompt\n",
    "\n",
    "session.add_packages(\"snowflake-snowpark-python\", \"snowflake-ml-python\", \"snowflake\")\n",
    "\n",
    "session.udf.register(\n",
    "  func = generate_prompt,\n",
    "  return_type = StringType(),\n",
    "  input_types = [ StringType()],\n",
    "  is_permanent = True,\n",
    "  name = 'generate_prompt',\n",
    "  replace = True,\n",
    "  stage_location = '@gen_ai_fsi.fomc.fed_logic')"
   ]
  },
  {
   "cell_type": "markdown",
   "id": "8378aafc-5076-4fb0-b1ff-a1812ae1e004",
   "metadata": {
    "name": "cell12"
   },
   "source": ""
  },
  {
   "cell_type": "markdown",
   "id": "ba82eaad-873c-435a-9026-551ec0fc61ac",
   "metadata": {
    "collapsed": false,
    "name": "STEP_3_MD"
   },
   "source": "### AI Pipeline: Step 3 - Ingest Text and Determine Signal\n\nNow we're using the functions that we've just created in a simple insert statement. This approach of encapsulating complexity for later reuse in SQL pipelines greatly increases the value of our work in a one-to-many relationship.\n\n### 🤯 🧠 CHECK IT OUT! 🧠 🤯 \n* We're calling our pdf native text extractor function! (line 11)\n* We're calling our promp function! (line 28)"
  },
  {
   "cell_type": "code",
   "id": "6d79ea09-a654-4f92-a636-5eff3ec377a1",
   "metadata": {
    "language": "sql",
    "name": "cell5"
   },
   "outputs": [],
   "source": "select * from gen_ai_fsi.fomc.fomc_stream;",
   "execution_count": null
  },
  {
   "cell_type": "code",
   "id": "03651157-01d8-4d62-90d3-d16561255da7",
   "metadata": {
    "language": "sql",
    "name": "cell6"
   },
   "outputs": [],
   "source": "CREATE OR REPLACE TABLE gen_ai_fsi.fomc.pdf_full_text (\n    id            NUMBER(19, 0),\n    relative_path VARCHAR(16777216),\n    size          NUMBER(38, 0),\n    last_modified TIMESTAMP_TZ(3),\n    md5           VARCHAR(16777216),\n    etag          VARCHAR(16777216),\n    file_url      VARCHAR(16777216),\n    file_text     VARCHAR(16777216),\n    file_date     DATE,\n    sentiment     VARCHAR(16777216)\n);",
   "execution_count": null
  },
  {
   "cell_type": "code",
   "id": "258aaf23-a59b-4ee2-8ed7-967217199a61",
   "metadata": {
    "language": "sql",
    "name": "cell4"
   },
   "outputs": [],
   "source": "INSERT INTO gen_ai_fsi.fomc.pdf_full_text (id, relative_path, size, last_modified, md5, etag, file_url, file_text, file_date, sentiment)\nWITH cte AS (SELECT gen_ai_fsi.fomc.fed_pdf_full_text_sequence.nextval AS id,\n                    relative_path                                      AS relative_path,\n                    size                                               AS size,\n                    last_modified                                      AS last_modified,\n                    md5                                                AS md5,\n                    etag                                               AS etag,\n                    file_url                                           AS file_url,\n                    REPLACE(TO_VARCHAR (\n                        SNOWFLAKE.CORTEX.PARSE_DOCUMENT ('@gen_ai_fsi.fomc.fed_pdf', relative_path)), '''', '')  AS file_text,\n                    TRY_TO_DATE(REGEXP_SUBSTR(relative_path, '\\\\d{8}'), 'YYYYMMDD') AS file_date\n             FROM directory(@gen_ai_fsi.fomc.fed_pdf)\n             WHERE relative_path LIKE '%.pdf'\n)\nSELECT id,\n       relative_path,\n       size,\n       last_modified,\n       md5,\n       etag,\n       file_url,\n       file_text,\n       file_date,\n       snowflake.cortex.try_complete('mistral-large2', gen_ai_fsi.fomc.generate_prompt(file_text)) AS signal_mis\nFROM cte;",
   "execution_count": null
  },
  {
   "cell_type": "code",
   "id": "aff849cd-fbad-4e96-a3b8-42001595c474",
   "metadata": {
    "language": "sql",
    "name": "cell7"
   },
   "outputs": [],
   "source": "select * from gen_ai_fsi.fomc.pdf_full_text;",
   "execution_count": null
  }
 ]
}